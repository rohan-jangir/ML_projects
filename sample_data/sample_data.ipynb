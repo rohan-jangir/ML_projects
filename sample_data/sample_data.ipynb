{
 "cells": [
  {
   "cell_type": "code",
   "execution_count": 2,
   "id": "18f4c304-f539-4dd0-9c66-7d58bb471932",
   "metadata": {},
   "outputs": [
    {
     "name": "stdout",
     "output_type": "stream",
     "text": [
      "jai shati mata\n"
     ]
    }
   ],
   "source": [
    "print('jai shati mata')"
   ]
  },
  {
   "cell_type": "code",
   "execution_count": 13,
   "id": "d084fbbf-ef0c-4e3e-94af-503625e33942",
   "metadata": {},
   "outputs": [],
   "source": [
    "import pandas as pd\n",
    "import numpy as np\n",
    "import matplotlib.pyplot as plt\n",
    "import seaborn as sns\n",
    "from sklearn.model_selection import train_test_split\n",
    "from sklearn.linear_model import LinearRegression"
   ]
  },
  {
   "cell_type": "code",
   "execution_count": 9,
   "id": "8700943e-8e89-4f92-b0a2-95be7693358c",
   "metadata": {},
   "outputs": [],
   "source": [
    "df = pd.read_csv('Linear_Regression_1.csv')"
   ]
  },
  {
   "cell_type": "code",
   "execution_count": 15,
   "id": "df43d60a-181f-4538-9910-af0447e6ff0a",
   "metadata": {},
   "outputs": [
    {
     "data": {
      "text/plain": [
       "(0.0, 213.2888889061327)"
      ]
     },
     "execution_count": 15,
     "metadata": {},
     "output_type": "execute_result"
    },
    {
     "data": {
      "image/png": "[encoded data removed]",
      "text/plain": [
       "<Figure size 640x480 with 1 Axes>"
      ]
     },
     "metadata": {},
     "output_type": "display_data"
    }
   ],
   "source": [
    "x = np.reshape(df['X'],(-1,1))\n",
    "y = np.reshape(df['Y'],(-1,1))\n",
    "sns.regplot(x=x,y=y,data=df)\n",
    "plt.ylim(0,)"
   ]
  },
  {
   "cell_type": "code",
   "execution_count": 29,
   "id": "1df78f75-9034-461c-945a-41b017f3d0db",
   "metadata": {},
   "outputs": [],
   "source": [
    "Xtrain,Xtest,ytrain,ytest = train_test_split(x,y,test_size=0.3)"
   ]
  },
  {
   "cell_type": "code",
   "execution_count": 30,
   "id": "a7b8a508-91fc-49ac-9a12-e317ecfb3724",
   "metadata": {},
   "outputs": [
    {
     "data": {
      "text/html": [
       "<style>#sk-container-id-4 {color: black;}#sk-container-id-4 pre{padding: 0;}#sk-container-id-4 div.sk-toggleable {background-color: white;}#sk-container-id-4 label.sk-toggleable__label {cursor: pointer;display: block;width: 100%;margin-bottom: 0;padding: 0.3em;box-sizing: border-box;text-align: center;}#sk-container-id-4 label.sk-toggleable__label-arrow:before {content: \"▸\";float: left;margin-right: 0.25em;color: #696969;}#sk-container-id-4 label.sk-toggleable__label-arrow:hover:before {color: black;}#sk-container-id-4 div.sk-estimator:hover label.sk-toggleable__label-arrow:before {color: black;}#sk-container-id-4 div.sk-toggleable__content {max-height: 0;max-width: 0;overflow: hidden;text-align: left;background-color: #f0f8ff;}#sk-container-id-4 div.sk-toggleable__content pre {margin: 0.2em;color: black;border-radius: 0.25em;background-color: #f0f8ff;}#sk-container-id-4 input.sk-toggleable__control:checked~div.sk-toggleable__content {max-height: 200px;max-width: 100%;overflow: auto;}#sk-container-id-4 input.sk-toggleable__control:checked~label.sk-toggleable__label-arrow:before {content: \"▾\";}#sk-container-id-4 div.sk-estimator input.sk-toggleable__control:checked~label.sk-toggleable__label {background-color: #d4ebff;}#sk-container-id-4 div.sk-label input.sk-toggleable__control:checked~label.sk-toggleable__label {background-color: #d4ebff;}#sk-container-id-4 input.sk-hidden--visually {border: 0;clip: rect(1px 1px 1px 1px);clip: rect(1px, 1px, 1px, 1px);height: 1px;margin: -1px;overflow: hidden;padding: 0;position: absolute;width: 1px;}#sk-container-id-4 div.sk-estimator {font-family: monospace;background-color: #f0f8ff;border: 1px dotted black;border-radius: 0.25em;box-sizing: border-box;margin-bottom: 0.5em;}#sk-container-id-4 div.sk-estimator:hover {background-color: #d4ebff;}#sk-container-id-4 div.sk-parallel-item::after {content: \"\";width: 100%;border-bottom: 1px solid gray;flex-grow: 1;}#sk-container-id-4 div.sk-label:hover label.sk-toggleable__label {background-color: #d4ebff;}#sk-container-id-4 div.sk-serial::before {content: \"\";position: absolute;border-left: 1px solid gray;box-sizing: border-box;top: 0;bottom: 0;left: 50%;z-index: 0;}#sk-container-id-4 div.sk-serial {display: flex;flex-direction: column;align-items: center;background-color: white;padding-right: 0.2em;padding-left: 0.2em;position: relative;}#sk-container-id-4 div.sk-item {position: relative;z-index: 1;}#sk-container-id-4 div.sk-parallel {display: flex;align-items: stretch;justify-content: center;background-color: white;position: relative;}#sk-container-id-4 div.sk-item::before, #sk-container-id-4 div.sk-parallel-item::before {content: \"\";position: absolute;border-left: 1px solid gray;box-sizing: border-box;top: 0;bottom: 0;left: 50%;z-index: -1;}#sk-container-id-4 div.sk-parallel-item {display: flex;flex-direction: column;z-index: 1;position: relative;background-color: white;}#sk-container-id-4 div.sk-parallel-item:first-child::after {align-self: flex-end;width: 50%;}#sk-container-id-4 div.sk-parallel-item:last-child::after {align-self: flex-start;width: 50%;}#sk-container-id-4 div.sk-parallel-item:only-child::after {width: 0;}#sk-container-id-4 div.sk-dashed-wrapped {border: 1px dashed gray;margin: 0 0.4em 0.5em 0.4em;box-sizing: border-box;padding-bottom: 0.4em;background-color: white;}#sk-container-id-4 div.sk-label label {font-family: monospace;font-weight: bold;display: inline-block;line-height: 1.2em;}#sk-container-id-4 div.sk-label-container {text-align: center;}#sk-container-id-4 div.sk-container {/* jupyter's `normalize.less` sets `[hidden] { display: none; }` but bootstrap.min.css set `[hidden] { display: none !important; }` so we also need the `!important` here to be able to override the default hidden behavior on the sphinx rendered scikit-learn.org. See: https://github.com/scikit-learn/scikit-learn/issues/21755 */display: inline-block !important;position: relative;}#sk-container-id-4 div.sk-text-repr-fallback {display: none;}</style><div id=\"sk-container-id-4\" class=\"sk-top-container\"><div class=\"sk-text-repr-fallback\"><pre>LinearRegression()</pre><b>In a Jupyter environment, please rerun this cell to show the HTML representation or trust the notebook. <br />On GitHub, the HTML representation is unable to render, please try loading this page with nbviewer.org.</b></div><div class=\"sk-container\" hidden><div class=\"sk-item\"><div class=\"sk-estimator sk-toggleable\"><input class=\"sk-toggleable__control sk-hidden--visually\" id=\"sk-estimator-id-4\" type=\"checkbox\" checked><label for=\"sk-estimator-id-4\" class=\"sk-toggleable__label sk-toggleable__label-arrow\">LinearRegression</label><div class=\"sk-toggleable__content\"><pre>LinearRegression()</pre></div></div></div></div></div>"
      ],
      "text/plain": [
       "LinearRegression()"
      ]
     },
     "execution_count": 30,
     "metadata": {},
     "output_type": "execute_result"
    }
   ],
   "source": [
    "clf = LinearRegression()\n",
    "clf.fit(Xtrain,ytrain)"
   ]
  },
  {
   "cell_type": "code",
   "execution_count": 31,
   "id": "f7b220a9-6647-43e8-ac83-5eac9edc6c39",
   "metadata": {},
   "outputs": [
    {
     "data": {
      "text/plain": [
       "0.9956404560458137"
      ]
     },
     "execution_count": 31,
     "metadata": {},
     "output_type": "execute_result"
    }
   ],
   "source": [
    "clf.score(Xtest,ytest)"
   ]
  },
  {
   "cell_type": "code",
   "execution_count": 39,
   "id": "e6fe2163-c734-4a6c-b864-7bbd39e1ad34",
   "metadata": {},
   "outputs": [
    {
     "data": {
      "text/plain": [
       "array([[171],\n",
       "       [ 44],\n",
       "       [256],\n",
       "       [298],\n",
       "       [ 41],\n",
       "       [122],\n",
       "       [  2],\n",
       "       [144],\n",
       "       [264],\n",
       "       [294],\n",
       "       [ 61],\n",
       "       [154],\n",
       "       [ 69],\n",
       "       [112],\n",
       "       [239],\n",
       "       [ 34],\n",
       "       [ 88],\n",
       "       [182],\n",
       "       [ 81],\n",
       "       [199],\n",
       "       [281],\n",
       "       [149],\n",
       "       [168],\n",
       "       [225],\n",
       "       [ 97],\n",
       "       [278],\n",
       "       [ 52],\n",
       "       [173],\n",
       "       [ 43],\n",
       "       [ 20],\n",
       "       [  3],\n",
       "       [215],\n",
       "       [114],\n",
       "       [291],\n",
       "       [164],\n",
       "       [ 76],\n",
       "       [235],\n",
       "       [250],\n",
       "       [113],\n",
       "       [158],\n",
       "       [282],\n",
       "       [227],\n",
       "       [209],\n",
       "       [255],\n",
       "       [260],\n",
       "       [257],\n",
       "       [196],\n",
       "       [285],\n",
       "       [208],\n",
       "       [ 17],\n",
       "       [259],\n",
       "       [132],\n",
       "       [ 40],\n",
       "       [296],\n",
       "       [284],\n",
       "       [115],\n",
       "       [ 91],\n",
       "       [ 93],\n",
       "       [218],\n",
       "       [ 21],\n",
       "       [ 31],\n",
       "       [ 45],\n",
       "       [179],\n",
       "       [167],\n",
       "       [ 71],\n",
       "       [212],\n",
       "       [ 78],\n",
       "       [181],\n",
       "       [ 37],\n",
       "       [ 53],\n",
       "       [136],\n",
       "       [216],\n",
       "       [127],\n",
       "       [117],\n",
       "       [254],\n",
       "       [119],\n",
       "       [133],\n",
       "       [229],\n",
       "       [273],\n",
       "       [102],\n",
       "       [176],\n",
       "       [ 33],\n",
       "       [159],\n",
       "       [ 27],\n",
       "       [140],\n",
       "       [ 58],\n",
       "       [269],\n",
       "       [ 12],\n",
       "       [ 73],\n",
       "       [ 51]], dtype=int64)"
      ]
     },
     "execution_count": 39,
     "metadata": {},
     "output_type": "execute_result"
    }
   ],
   "source": [
    "Xtest"
   ]
  },
  {
   "cell_type": "code",
   "execution_count": 40,
   "id": "5cb5c105-2560-43c7-84e6-3764d4c89c78",
   "metadata": {},
   "outputs": [
    {
     "data": {
      "text/plain": [
       "array([[114.5308266 ],\n",
       "       [ 34.771932  ],\n",
       "       [167.91276393],\n",
       "       [194.2897212 ],\n",
       "       [ 32.88786362],\n",
       "       [ 83.75770978],\n",
       "       [  8.39497473],\n",
       "       [ 97.57421121],\n",
       "       [172.93694627],\n",
       "       [191.77763003],\n",
       "       [ 45.44831946],\n",
       "       [103.85443913],\n",
       "       [ 50.4725018 ],\n",
       "       [ 77.47748186],\n",
       "       [157.23637646],\n",
       "       [ 28.49170408],\n",
       "       [ 62.40493485],\n",
       "       [121.43907731],\n",
       "       [ 58.00877531],\n",
       "       [132.11546478],\n",
       "       [183.61333373],\n",
       "       [100.71432517],\n",
       "       [112.64675822],\n",
       "       [148.44405737],\n",
       "       [ 68.05713998],\n",
       "       [181.72926536],\n",
       "       [ 39.79611433],\n",
       "       [115.78687218],\n",
       "       [ 34.1439092 ],\n",
       "       [ 19.69938499],\n",
       "       [  9.02299752],\n",
       "       [142.16382945],\n",
       "       [ 78.73352745],\n",
       "       [189.89356165],\n",
       "       [110.13466705],\n",
       "       [ 54.86866135],\n",
       "       [154.72428529],\n",
       "       [164.14462718],\n",
       "       [ 78.10550465],\n",
       "       [106.3665303 ],\n",
       "       [184.24135652],\n",
       "       [149.70010296],\n",
       "       [138.3956927 ],\n",
       "       [167.28474114],\n",
       "       [170.4248551 ],\n",
       "       [168.54078672],\n",
       "       [130.2313964 ],\n",
       "       [186.1254249 ],\n",
       "       [137.76766991],\n",
       "       [ 17.81531661],\n",
       "       [169.79683231],\n",
       "       [ 90.0379377 ],\n",
       "       [ 32.25984083],\n",
       "       [193.03367561],\n",
       "       [185.49740211],\n",
       "       [ 79.36155024],\n",
       "       [ 64.28900323],\n",
       "       [ 65.54504881],\n",
       "       [144.04789783],\n",
       "       [ 20.32740778],\n",
       "       [ 26.6076357 ],\n",
       "       [ 35.39995479],\n",
       "       [119.55500893],\n",
       "       [112.01873543],\n",
       "       [ 51.72854738],\n",
       "       [140.27976107],\n",
       "       [ 56.12470693],\n",
       "       [120.81105452],\n",
       "       [ 30.37577245],\n",
       "       [ 40.42413713],\n",
       "       [ 92.55002887],\n",
       "       [142.79185224],\n",
       "       [ 86.89782374],\n",
       "       [ 80.61759582],\n",
       "       [166.65671834],\n",
       "       [ 81.87364141],\n",
       "       [ 90.6659605 ],\n",
       "       [150.95614854],\n",
       "       [178.5891514 ],\n",
       "       [ 71.19725394],\n",
       "       [117.67094056],\n",
       "       [ 27.86368128],\n",
       "       [106.99455309],\n",
       "       [ 24.09554453],\n",
       "       [ 95.06212004],\n",
       "       [ 43.56425109],\n",
       "       [176.07706023],\n",
       "       [ 14.67520265],\n",
       "       [ 52.98459297],\n",
       "       [ 39.16809154]])"
      ]
     },
     "execution_count": 40,
     "metadata": {},
     "output_type": "execute_result"
    }
   ],
   "source": [
    "clf.predict(Xtest)"
   ]
  },
  {
   "cell_type": "code",
   "execution_count": 41,
   "id": "ae873dad-ed5e-41db-b69c-115c60a6df9a",
   "metadata": {},
   "outputs": [
    {
     "data": {
      "text/plain": [
       "array([[ 29.74774966],\n",
       "       [ 18.4433394 ],\n",
       "       [134.62755595],\n",
       "       [324.91846196],\n",
       "       [515.20936798],\n",
       "       [195.54576678],\n",
       "       [196.17378957]])"
      ]
     },
     "execution_count": 41,
     "metadata": {},
     "output_type": "execute_result"
    }
   ],
   "source": [
    "data = [36,18,203,506,809,300,301]\n",
    "new_data = np.reshape(data,(-1,1))\n",
    "clf.predict(new_data)"
   ]
  }
 ],
 "metadata": {
  "kernelspec": {
   "display_name": "Python 3 (ipykernel)",
   "language": "python",
   "name": "python3"
  },
  "language_info": {
   "codemirror_mode": {
    "name": "ipython",
    "version": 3
   },
   "file_extension": ".py",
   "mimetype": "text/x-python",
   "name": "python",
   "nbconvert_exporter": "python",
   "pygments_lexer": "ipython3",
   "version": "3.11.5"
  }
 },
 "nbformat": 4,
 "nbformat_minor": 5
}
